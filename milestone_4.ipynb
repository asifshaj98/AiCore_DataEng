{
  "cells": [
    {
      "cell_type": "markdown",
      "metadata": {
        "id": "view-in-github",
        "colab_type": "text"
      },
      "source": [
        "<a href=\"https://colab.research.google.com/github/asifshaj98/AiCore_DataEng/blob/main/milestone_4.ipynb\" target=\"_parent\"><img src=\"https://colab.research.google.com/assets/colab-badge.svg\" alt=\"Open In Colab\"/></a>"
      ]
    },
    {
      "cell_type": "markdown",
      "metadata": {
        "id": "i_xLFYD8a_h3"
      },
      "source": [
        "# Movie Recommendation - Milestone 4\n"
      ]
    },
    {
      "cell_type": "markdown",
      "metadata": {
        "id": "nVvcSXQ1MlNu"
      },
      "source": [
        "<details>\n",
        "  <summary>Click in any of these links to compare your solution with ours up to this point</summary>\n",
        "  <p>\n",
        "    <a href=\"https://colab.research.google.com/github/AI-Core/movie-recommendation-solutions/blob/main/solution_m1.ipynb\" target=\"_parent\">Solution for milestone 1</a>\n",
        "  </p>\n",
        "  <p>\n",
        "    <a href=\"https://colab.research.google.com/github/AI-Core/movie-recommendation-solutions/blob/main/solution_m2.ipynb\" target=\"_parent\">Solution for milestone 2</a>\n",
        "  </p>\n",
        "    <p>\n",
        "        <a href=\"https://colab.research.google.com/github/AI-Core/movie-recommendation-solutions/blob/main/solution_m3.ipynb\" target=\"_parent\">Solution for milestone 3</a>\n",
        "    </p>\n",
        "</details>"
      ]
    },
    {
      "cell_type": "code",
      "execution_count": 1,
      "metadata": {
        "id": "wN14cV8SMlNv",
        "outputId": "8c829358-0559-4b72-c8d2-df06bba7662d",
        "colab": {
          "base_uri": "https://localhost:8080/"
        }
      },
      "outputs": [
        {
          "output_type": "stream",
          "name": "stdout",
          "text": [
            "  Preparing metadata (setup.py) ... \u001b[?25l\u001b[?25hdone\n",
            "  Preparing metadata (setup.py) ... \u001b[?25l\u001b[?25hdone\n",
            "  Building wheel for movie-rec-marking-aicore (setup.py) ... \u001b[?25l\u001b[?25hdone\n",
            "  Building wheel for timeout-decorator (setup.py) ... \u001b[?25l\u001b[?25hdone\n"
          ]
        }
      ],
      "source": [
        "#@title # Run the following cell to add the `movies` variable and the `get_unique_genres` and `get_movies_in_genre` functions will be available for you to use. { display-mode: \"form\" }\n",
        "#@markdown Don’t worry about what’s in this collapsed cell, you’re not expected to understand the code inside\n",
        "\n",
        "!pip install movie-rec-marking-aicore --upgrade --quiet\n",
        "!wget https://aicore-files.s3.amazonaws.com/Movie-Recommendation/movies.json --quiet\n",
        "from movie_rec_marking import test_milestone_4\n",
        "import json\n",
        "with open('movies.json', 'r') as f:\n",
        "    movies = json.load(f)\n",
        "\n",
        "def get_unique_genres():\n",
        "    genres = []\n",
        "    for movie in movies:\n",
        "        genres.append(movie[\"genre\"])\n",
        "    genres = set(genres)\n",
        "    return genres\n",
        "\n",
        "def get_movies_in_genre(genre):\n",
        "    movies_in_genre = []\n",
        "    for movie in movies:\n",
        "        if movie[\"genre\"] == genre:\n",
        "            movies_in_genre.append(movie)\n",
        "    return movies_in_genre"
      ]
    },
    {
      "cell_type": "markdown",
      "metadata": {
        "id": "MYQw48Lqa3Q4"
      },
      "source": [
        "# Task 1\n",
        "### Ask the user what genre they are interested in\n",
        "\n",
        "Before you ask a user for their input, print out all of the available options. Get this from your `get_unique_genre`s method defined earlier.\n",
        "\n",
        "Then, take a user input using the `input()` function and assign it to the variable genre_choice.\n",
        "\n",
        "Put all of this in a function called get_user_genre_choice.\n",
        "\n",
        "Open this notebook  to get started, and follow the instructions for this milestone.\n",
        "\n"
      ]
    },
    {
      "cell_type": "code",
      "execution_count": 3,
      "metadata": {
        "id": "1UpT9BAym0iW",
        "outputId": "33654dda-83d0-4041-9719-0d34eb860cf1",
        "colab": {
          "base_uri": "https://localhost:8080/"
        }
      },
      "outputs": [
        {
          "output_type": "stream",
          "name": "stdout",
          "text": [
            "Available genres:\n",
            "Western\n",
            "Mystery\n",
            "Crime\n",
            "Animation\n",
            "Horror\n",
            "Film-Noir\n",
            "Action\n",
            "Adventure\n",
            "Drama\n",
            "Comedy\n",
            "Biography\n",
            "Enter the genre you are interested in: Drama\n",
            "You chose the genre: Drama\n"
          ]
        }
      ],
      "source": [
        "## Write your code here\n",
        "def get_user_genre_choice():\n",
        "    # Get the list of unique genres\n",
        "    unique_genres = get_unique_genres()\n",
        "\n",
        "    # Print the available genre options\n",
        "    print(\"Available genres:\")\n",
        "    for genre in unique_genres:\n",
        "        print(genre)\n",
        "\n",
        "    # Ask the user for their genre choice\n",
        "    genre_choice = input(\"Enter the genre you are interested in: \")\n",
        "\n",
        "    return genre_choice\n",
        "\n",
        "# Call the function to get the user's genre choice\n",
        "genre_choice = get_user_genre_choice()\n",
        "print(f\"You chose the genre: {genre_choice}\")\n"
      ]
    },
    {
      "cell_type": "code",
      "execution_count": 4,
      "metadata": {
        "id": "k6Utjf8OMlNx",
        "outputId": "f5d166ed-676d-4320-c22a-1452f6fdaaf0",
        "colab": {
          "base_uri": "https://localhost:8080/"
        }
      },
      "outputs": [
        {
          "output_type": "stream",
          "name": "stdout",
          "text": [
            "Great! The \"get_user_genre_choice\" function prints the correct genre\n",
            "You can continue to the next task\n"
          ]
        }
      ],
      "source": [
        "#@title Run this cell to check your solution { display-mode: \"form\", run: \"auto\" }\n",
        "\n",
        "assert 'get_user_genre_choice' in globals(), \"You need to define a function called get_user_genre_choice\"\n",
        "task_1 = test_milestone_4.check_get_user_genre_choice(get_user_genre_choice)"
      ]
    },
    {
      "cell_type": "markdown",
      "metadata": {
        "id": "9NKJ3lGOMlNy"
      },
      "source": [
        "# Task 2\n",
        "\n",
        "### Show the movies in the selected genre\n",
        "\n",
        "Write some code to show the movies in a selected genre (you don't need to define this as a function yet):\n",
        "\n",
        "Use your `get_movies_in_genre` function to get a list of movies in the genre selected.\n",
        "\n",
        "\n",
        "Print each movie within the selected genre on a new line. At the start of the line, print the integer index of the movie.\n",
        "\n",
        "\n",
        "Make sure to:\n",
        "\n",
        "- Use the built-in `enumerate` function\n",
        "- Use an f-string to format the printed text\n",
        "\n",
        "To avoid confusing users, make the indexing start from 1 rather than zero. For example, one line should look something like: `\"3: The Dark Knight\"`."
      ]
    },
    {
      "cell_type": "code",
      "execution_count": 8,
      "metadata": {
        "id": "zU2EbPq3MlNy",
        "outputId": "8cb102ba-36dd-49e6-d4da-2b33bafd5e7f",
        "colab": {
          "base_uri": "https://localhost:8080/"
        }
      },
      "outputs": [
        {
          "output_type": "stream",
          "name": "stdout",
          "text": [
            "Available genres:\n",
            "Western\n",
            "Mystery\n",
            "Crime\n",
            "Animation\n",
            "Horror\n",
            "Film-Noir\n",
            "Action\n",
            "Adventure\n",
            "Drama\n",
            "Comedy\n",
            "Biography\n",
            "Enter the genre you are interested in: Crime\n",
            "1: The Godfather\n",
            "2: The Godfather: Part II\n",
            "3: 12 Angry Men\n",
            "4: Pulp Fiction\n",
            "5: Seven\n",
            "6: The Silence of the Lambs\n",
            "7: City of God\n",
            "8: The Green Mile\n",
            "9: American History X\n",
            "10: The Departed\n",
            "11: The Usual Suspects\n",
            "12: Witness for the Prosecution\n",
            "13: Joker\n",
            "14: Once Upon a Time in America\n",
            "15: High and Low\n",
            "16: Reservoir Dogs\n",
            "17: M\n",
            "18: A Clockwork Orange\n",
            "19: Double Indemnity\n",
            "20: Scarface\n",
            "21: To Kill a Mockingbird\n",
            "22: Taxi Driver\n",
            "23: L.A. Confidential\n",
            "24: Casino\n",
            "25: Rashomon\n",
            "26: No Country for Old Men\n",
            "27: Dial M for Murder\n",
            "28: Fargo\n",
            "29: Prisoners\n",
            "30: On the Waterfront\n",
            "31: Memories of Murder\n",
            "32: Jai Bhim\n",
            "33: La Haine\n",
            "34: Cool Hand Luke\n",
            "35: The 400 Blows\n"
          ]
        }
      ],
      "source": [
        "## Write your code here\n",
        "# Ask the user for their genre choice\n",
        "genre_choice = get_user_genre_choice()\n",
        "\n",
        "# Get the movies in the selected genre\n",
        "selected_genre_movies = get_movies_in_genre(genre_choice)\n",
        "\n",
        "# Print the movies with indexes starting from 1\n",
        "for index, movie in enumerate(selected_genre_movies, start=1):\n",
        "    print(f\"{index}: {movie['title']}\")\n"
      ]
    },
    {
      "cell_type": "code",
      "execution_count": 9,
      "metadata": {
        "id": "NRMsfAZDMlNz",
        "outputId": "3ddccf91-09ff-4970-9817-d330b33584c0",
        "colab": {
          "base_uri": "https://localhost:8080/"
        }
      },
      "outputs": [
        {
          "output_type": "stream",
          "name": "stdout",
          "text": [
            "Great! The \"get_movies_in_genre\" function returns the correct movies\n",
            "You can continue to the next task\n"
          ]
        }
      ],
      "source": [
        "#@title Enter your solution here { display-mode: \"form\", run: \"auto\" }\n",
        "#@markdown For Action, which is the movie corresponding to index 12?\n",
        "first_movie = \"Gladiator\" #@param [\"The Dark Knight\", \"Leon\", \"Harakiri\", \"Gladiator\", \"Pirates of the Caribbean: The Curse of the Black Pearl\"] {allow-input: true}\n",
        "#@markdown For Drama, which is the movie corresponding to index 7?\n",
        "second_movie = \"Parasite\" #@param [\"The Help\", \"The Shawshank Redemption\", \"The Prestige\", \"Parasite\", \"Saving Private Ryan\"] {allow-input: true}\n",
        "\n",
        "#@markdown For Crime, which is the movie corresponding to index 26?\n",
        "third_movie = \"No Country for Old Men\" #@param [\"Rashomon\", \"Reservoir Dogs\", \"The Godfather\", \"No Country for Old Men\", \"Dial M for Murder\"] {allow-input: true}\n",
        "task_2 = test_milestone_4.check_get_movies_in_genre(first_movie, second_movie, third_movie, task_1)"
      ]
    },
    {
      "cell_type": "markdown",
      "metadata": {
        "id": "XaW36Dp4MlNz"
      },
      "source": [
        "# Task 3\n",
        "\n",
        "### Select and display the details of a movie\n",
        "\n",
        "Define a new function called `get_movie_by_index`. It should first print out all the movies in the genre selected.\n",
        "\n",
        "Then, it should ask the user to select a movie by entering the index of the movie. Assign this to a variable named `selected_movie_index`.\n",
        "\n",
        "\n",
        "HINT: Be careful of what data type is returned from the `input()` function.\n",
        "\n",
        "Print the key-value pairs of the selected movie's dictionary each on a new line.\n",
        "\n",
        "On each line, print the key and the value, separated by a comma.\n",
        "\n",
        "\n",
        "Make sure to use the `.items()` method of the dictionary.\n",
        "\n",
        "\n",
        "Your program should end after this."
      ]
    },
    {
      "cell_type": "code",
      "execution_count": 12,
      "metadata": {
        "id": "uFKpte3yMlNz",
        "outputId": "f7140ea0-b662-42a1-f30c-070e2bc785e5",
        "colab": {
          "base_uri": "https://localhost:8080/"
        }
      },
      "outputs": [
        {
          "output_type": "stream",
          "name": "stdout",
          "text": [
            "Available genres:\n",
            "Western\n",
            "Mystery\n",
            "Crime\n",
            "Animation\n",
            "Horror\n",
            "Film-Noir\n",
            "Action\n",
            "Adventure\n",
            "Drama\n",
            "Comedy\n",
            "Biography\n",
            "Enter the genre you are interested in: Action\n",
            "1: The Dark Knight\n",
            "2: The Lord of the Rings: The Return of the King\n",
            "3: The Lord of the Rings: The Fellowship of the Ring\n",
            "4: Inception\n",
            "5: The Lord of the Rings: The Two Towers\n",
            "6: Star Wars: Episode V - The Empire Strikes Back\n",
            "7: The Matrix\n",
            "8: Seven Samurai\n",
            "9: Star Wars\n",
            "10: Terminator 2: Judgment Day\n",
            "11: Leon\n",
            "12: Gladiator\n",
            "13: Harakiri\n",
            "14: Raiders of the Lost Ark\n",
            "15: Avengers: Infinity War\n",
            "16: Aliens\n",
            "17: The Dark Knight Rises\n",
            "18: Oldboy\n",
            "19: Top Gun: Maverick\n",
            "20: Avengers: Endgame\n",
            "21: Star Wars: Return of the Jedi\n",
            "22: North by Northwest\n",
            "23: Heat\n",
            "24: Die Hard\n",
            "25: Indiana Jones and the Last Crusade\n",
            "26: 1917\n",
            "27: Batman Begins\n",
            "28: Dangal\n",
            "29: Ran\n",
            "30: Spider-Man: No Way Home\n",
            "31: Yojimbo\n",
            "32: Jurassic Park\n",
            "33: Kill Bill: Vol. 1\n",
            "34: V for Vendetta\n",
            "35: Lock, Stock and Two Smoking Barrels\n",
            "36: Warrior\n",
            "37: Blade Runner\n",
            "38: The General\n",
            "39: Sherlock Jr.\n",
            "40: Mad Max: Fury Road\n",
            "41: Le Mans '66\n",
            "42: Everything Everywhere All at Once\n",
            "43: The Terminator\n",
            "44: Rush\n",
            "45: Logan\n",
            "46: Pirates of the Caribbean: The Curse of the Black Pearl\n",
            "Enter the index of the movie you want to see details for: 41\n",
            "title: Le Mans '66\n",
            "description: American car designer Carroll Shelby and driver Ken Miles battle corporate interference and the laws of physics to build a revolutionary race car for Ford in order to defeat Ferrari at the 24 Hours of Le Mans in 1966.\n",
            "genre: Action\n",
            "image_url: https://m.media-amazon.com/images/M/MV5BM2UwMDVmMDItM2I2Yi00NGZmLTk4ZTUtY2JjNTQ3OGQ5ZjM2XkEyXkFqcGdeQXVyMTA1OTYzOTUx._V1_UY67_CR0,0,45,67_AL_.jpg\n",
            "link: https://imdb.com/title/tt1950186/?pf_rd_m=A2FGELUUNOQJNL&pf_rd_p=1a264172-ae11-42e4-8ef7-7fed1973bb8f&pf_rd_r=VZEYAR8ZVPNKZ9V7MV87&pf_rd_s=center-1&pf_rd_t=15506&pf_rd_i=top&ref_=chttp_tt_210\n"
          ]
        }
      ],
      "source": [
        "def get_movie_by_index():\n",
        "    # Ask the user for their genre choice\n",
        "    genre_choice = get_user_genre_choice()\n",
        "\n",
        "    # Get the movies in the selected genre\n",
        "    selected_genre_movies = get_movies_in_genre(genre_choice)\n",
        "\n",
        "    # Print the movies with indexes starting from 1\n",
        "    for index, movie in enumerate(selected_genre_movies, start=1):\n",
        "        print(f\"{index}: {movie['title']}\")\n",
        "\n",
        "    # Ask the user to select a movie by entering the index\n",
        "    try:\n",
        "        selected_movie_index = int(input(\"Enter the index of the movie you want to see details for: \")) - 1\n",
        "        # Check if the selected index is within a valid range\n",
        "        if 0 <= selected_movie_index < len(selected_genre_movies):\n",
        "            selected_movie = selected_genre_movies[selected_movie_index]\n",
        "            # Print the key-value pairs of the selected movie's dictionary\n",
        "            for key, value in selected_movie.items():\n",
        "                print(f\"{key}: {value}\")\n",
        "        else:\n",
        "            print(\"Invalid index. Please enter a valid index.\")\n",
        "    except ValueError:\n",
        "        print(\"Invalid input. Please enter a valid index as a number.\")\n",
        "\n",
        "# Call the function to select and display the details of a movie\n",
        "get_movie_by_index()\n"
      ]
    },
    {
      "cell_type": "code",
      "execution_count": 13,
      "metadata": {
        "id": "evZoGJLSMlN0",
        "outputId": "b5141c96-0368-49f2-be9d-b571b82ee7e0",
        "colab": {
          "base_uri": "https://localhost:8080/"
        }
      },
      "outputs": [
        {
          "output_type": "stream",
          "name": "stdout",
          "text": [
            "Great! The \"get_movie_by_index\" function is defined correctly\n",
            "You have completed the fourth milestone of the project! Congratulations!\n"
          ]
        }
      ],
      "source": [
        "#@title Run this cell to check your solution { display-mode: \"form\", run: \"auto\" }\n",
        "\n",
        "assert 'get_movie_by_index' in globals(), \"You need to define a function called get_movie_by_index\"\n",
        "task_3 = test_milestone_4.check_get_movie_by_index(get_movie_by_index, task_2)"
      ]
    }
  ],
  "metadata": {
    "colab": {
      "provenance": [],
      "include_colab_link": true
    },
    "kernelspec": {
      "display_name": "Python 3.9.5 ('base')",
      "language": "python",
      "name": "python3"
    },
    "language_info": {
      "codemirror_mode": {
        "name": "ipython",
        "version": 3
      },
      "file_extension": ".py",
      "mimetype": "text/x-python",
      "name": "python",
      "nbconvert_exporter": "python",
      "pygments_lexer": "ipython3",
      "version": "3.9.5 (default, Jun  4 2021, 12:28:51) \n[GCC 7.5.0]"
    },
    "orig_nbformat": 4,
    "vscode": {
      "interpreter": {
        "hash": "ce99af5845ff7f417c6fe57e3883abe41597db90e3f493c4f9da5159bbc46102"
      }
    }
  },
  "nbformat": 4,
  "nbformat_minor": 0
}