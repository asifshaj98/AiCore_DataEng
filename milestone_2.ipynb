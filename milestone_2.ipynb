{
  "cells": [
    {
      "cell_type": "markdown",
      "metadata": {
        "id": "view-in-github",
        "colab_type": "text"
      },
      "source": [
        "<a href=\"https://colab.research.google.com/github/asifshaj98/AiCore_DataEng/blob/main/milestone_2.ipynb\" target=\"_parent\"><img src=\"https://colab.research.google.com/assets/colab-badge.svg\" alt=\"Open In Colab\"/></a>"
      ]
    },
    {
      "cell_type": "markdown",
      "metadata": {
        "id": "i_xLFYD8a_h3"
      },
      "source": [
        "# Movie Recommendation - Milestone 2"
      ]
    },
    {
      "cell_type": "markdown",
      "metadata": {
        "id": "AQcUUrLkKuCE"
      },
      "source": [
        "<details>\n",
        "  <summary>Click in any of these links to compare your solution with ours up to this point</summary>\n",
        "  <p>\n",
        "    <a href=\"https://colab.research.google.com/github/AI-Core/movie-recommendation-solutions/blob/main/solution_m1.ipynb\" target=\"_parent\">Solution for milestone 1</a>\n",
        "  </p>\n",
        "</details>"
      ]
    },
    {
      "cell_type": "code",
      "execution_count": 1,
      "metadata": {
        "colab": {
          "base_uri": "https://localhost:8080/"
        },
        "id": "RLn-_E7Ba3Q4",
        "outputId": "9ec1e5d7-7b1a-4a26-dfd8-5031457f5749"
      },
      "outputs": [
        {
          "output_type": "stream",
          "name": "stdout",
          "text": [
            "  Preparing metadata (setup.py) ... \u001b[?25l\u001b[?25hdone\n",
            "  Preparing metadata (setup.py) ... \u001b[?25l\u001b[?25hdone\n",
            "  Building wheel for movie-rec-marking-aicore (setup.py) ... \u001b[?25l\u001b[?25hdone\n",
            "  Building wheel for timeout-decorator (setup.py) ... \u001b[?25l\u001b[?25hdone\n"
          ]
        }
      ],
      "source": [
        "#@title # Run this cell before you start coding { display-mode: \"form\" }\n",
        "#@markdown Don’t worry about what’s in this collapsed cell, you’re not expected to understand the code inside\n",
        "\n",
        "!pip install movie-rec-marking-aicore --upgrade --quiet\n",
        "!wget https://aicore-files.s3.amazonaws.com/Movie-Recommendation/movies-head.json --quiet\n",
        "import json\n",
        "from movie_rec_marking import test_milestone_2\n",
        "\n",
        "# Load the movies\n",
        "with open('movies-head.json', 'r') as f:\n",
        "    movies = json.load(f)"
      ]
    },
    {
      "cell_type": "markdown",
      "metadata": {
        "id": "MYQw48Lqa3Q4"
      },
      "source": [
        "# Task 1\n",
        "### Display all the movies' titles\n",
        "\n",
        "Define a function called `print_every_movie_title` that goes through the list of movies and prints each of their title, one by one. The function should not return anything"
      ]
    },
    {
      "cell_type": "code",
      "execution_count": 2,
      "metadata": {
        "id": "1UpT9BAym0iW",
        "outputId": "80a37fc8-ce8b-438c-e0bb-0c28d51ec303",
        "colab": {
          "base_uri": "https://localhost:8080/"
        }
      },
      "outputs": [
        {
          "output_type": "stream",
          "name": "stdout",
          "text": [
            "The Shawshank Redemption\n",
            "The Godfather\n",
            "The Dark Knight\n",
            "The Godfather: Part II\n"
          ]
        }
      ],
      "source": [
        "def print_every_movie_title(movies):\n",
        "    for movie in movies:\n",
        "        title = movie.get('title', 'Title not available')\n",
        "        print(title)\n",
        "\n",
        "# Your list of movies\n",
        "movies = [\n",
        "    {'title': 'The Shawshank Redemption', 'description': '...', 'genre': 'Drama', 'image_url': '...', 'link': 'https://imdb.com/title/tt0111161/?pf_rd_m=A2FGELUUNOQJNL&pf_rd_p=...'},\n",
        "    {'title': 'The Godfather', 'description': '...', 'genre': 'Crime', 'image_url': '...', 'link': 'https://imdb.com/title/tt0068646/?pf_rd_m=...'},\n",
        "    {'title': 'The Dark Knight', 'description': '...', 'genre': 'Action', 'image_url': '...', 'link': 'https://imdb.com/title/tt0468569/?pf_rd_m=...'},\n",
        "    {'title': 'The Godfather: Part II', 'description': '...', 'genre': 'Crime', 'image_url': '...'}\n",
        "]\n",
        "\n",
        "# Call the function to print every movie title\n",
        "print_every_movie_title(movies)\n"
      ]
    },
    {
      "cell_type": "code",
      "execution_count": 3,
      "metadata": {
        "id": "u8eaG_bsKuCH",
        "outputId": "4ded3477-49e5-4a2a-e84f-d6ee9ccd1270",
        "colab": {
          "base_uri": "https://localhost:8080/"
        }
      },
      "outputs": [
        {
          "output_type": "stream",
          "name": "stdout",
          "text": [
            "Great! The function prints every movie name\n",
            "You can continue to the next task\n"
          ]
        }
      ],
      "source": [
        "#@title Run this cell to check your solution { display-mode: \"form\", run: \"auto\" }\n",
        "assert 'print_every_movie_title' in globals(), \"Please define the function print_every_movie_title\"\n",
        "task_1 = test_milestone_2.check_print_every_movie_title(print_every_movie_title)"
      ]
    },
    {
      "cell_type": "markdown",
      "metadata": {
        "id": "5RlA28WFKuCI"
      },
      "source": [
        "# Task 2\n",
        "\n",
        "### What is the length of a given movie's description?\n",
        "\n",
        "Define a function called `get_movie_description_length` that takes in one of the movies from the list of movies.\n",
        "You should pass the entire dictionary from the relevant entry in the list of movies as an input argument to the function.\n",
        "The function should then return the exact number of characters in its description, formatted as an integer.\n",
        "\n",
        "Test the function you have defined by using it to check the description of the the first entry in the `movies` list (i.e. `movies[0]`)."
      ]
    },
    {
      "cell_type": "code",
      "execution_count": 4,
      "metadata": {
        "id": "h3OywfDiKuCI",
        "outputId": "618c6995-a678-401e-d37a-6c64b0bf5ebf",
        "colab": {
          "base_uri": "https://localhost:8080/"
        }
      },
      "outputs": [
        {
          "output_type": "stream",
          "name": "stdout",
          "text": [
            "The length of the description for 'The Shawshank Redemption' is 118 characters.\n"
          ]
        }
      ],
      "source": [
        "## Write your code here\n",
        "\n",
        "def get_movie_description_length(movie):\n",
        "    description = movie.get('description', '')\n",
        "    return len(description)\n",
        "\n",
        "# Your list of movies\n",
        "movies = [\n",
        "    {'title': 'The Shawshank Redemption', 'description': 'Two imprisoned men bond over a number of years, finding solace and eventual redemption through acts of common decency.', 'genre': 'Drama', 'image_url': '...', 'link': 'https://imdb.com/title/tt0111161/?pf_rd_m=A2FGELUUNOQJNL&pf_rd_p=...'},\n",
        "    {'title': 'The Godfather', 'description': 'The aging patriarch of an organized crime dynasty in postwar New York City transfers control of his clandestine empire to his reluctant youngest son.', 'genre': 'Crime', 'image_url': '...', 'link': 'https://imdb.com/title/tt0068646/?pf_rd_m=...'},\n",
        "    {'title': 'The Dark Knight', 'description': 'When the menace known as the Joker wreaks havoc and chaos on the people of Gotham, Batman must accept one of the greatest psychological and physical tests of his ability to fight injustice.', 'genre': 'Action', 'image_url': '...', 'link': 'https://imdb.com/title/tt0468569/?pf_rd_m=...'},\n",
        "    {'title': 'The Godfather: Part II', 'description': 'The early life and career of Vito Corleone in 1920s New York City is portrayed, while his son, Michael, expands and tightens his grip on the family crime syndicate.', 'genre': 'Crime', 'image_url': '...'}\n",
        "]\n",
        "\n",
        "# Test the function with the first movie in the list (movies[0])\n",
        "first_movie = movies[0]\n",
        "description_length = get_movie_description_length(first_movie)\n",
        "print(f\"The length of the description for '{first_movie['title']}' is {description_length} characters.\")\n"
      ]
    },
    {
      "cell_type": "code",
      "execution_count": 5,
      "metadata": {
        "id": "LN4WVDWVKuCJ",
        "outputId": "2d2bba24-4aab-438a-b544-e9cfde8b24e0",
        "colab": {
          "base_uri": "https://localhost:8080/"
        }
      },
      "outputs": [
        {
          "output_type": "stream",
          "name": "stdout",
          "text": [
            "testing  the function with movie:  The Godfather\n",
            "Testing that the function can accept a movie as an argument, and that it returns the correct length of the description as an integer type\n",
            "Great! The function returns the correct length of the description:  149\n",
            "You can continue to the next task\n"
          ]
        }
      ],
      "source": [
        "#@title Run this cell to check your solution { display-mode: \"form\", run: \"auto\" }\n",
        "assert 'get_movie_description_length' in globals(), \"Please define the function get_movie_description_length\"\n",
        "task_2 = test_milestone_2.check_get_movie_description_length(get_movie_description_length, task_1)"
      ]
    },
    {
      "cell_type": "markdown",
      "metadata": {
        "id": "6_U7a8ARKuCK"
      },
      "source": [
        "# Task 3\n",
        "\n",
        "### What is the average length of any movie description?\n",
        "\n",
        "Define a function called `get_avg_movie_description_length` that returns the average number of characters in each movie description, averaged across the whole dataset.\n",
        "\n",
        "The function should return a floating point number, rounded to 1 decimal place.\n",
        "\n",
        "To avoid repeating code, make sure that you use the function you defined earlier for getting the movie description length inside this function."
      ]
    },
    {
      "cell_type": "code",
      "execution_count": 6,
      "metadata": {
        "id": "0CcmSMUxKuCL",
        "outputId": "bbab5a1c-3da2-4006-d7a6-0ac8152332b3",
        "colab": {
          "base_uri": "https://localhost:8080/"
        }
      },
      "outputs": [
        {
          "output_type": "stream",
          "name": "stdout",
          "text": [
            "The average description length across all movies is 155.0 characters.\n"
          ]
        }
      ],
      "source": [
        "## Write your code here\n",
        "\n",
        "def get_avg_movie_description_length(movies):\n",
        "    total_length = 0\n",
        "    num_movies = len(movies)\n",
        "\n",
        "    for movie in movies:\n",
        "        total_length += get_movie_description_length(movie)\n",
        "\n",
        "    if num_movies == 0:\n",
        "        return 0.0  # Avoid division by zero\n",
        "\n",
        "    avg_length = total_length / num_movies\n",
        "    return round(avg_length, 1)\n",
        "\n",
        "# Your list of movies\n",
        "movies = [\n",
        "    {'title': 'The Shawshank Redemption', 'description': 'Two imprisoned men bond over a number of years, finding solace and eventual redemption through acts of common decency.', 'genre': 'Drama', 'image_url': '...', 'link': 'https://imdb.com/title/tt0111161/?pf_rd_m=A2FGELUUNOQJNL&pf_rd_p=...'},\n",
        "    {'title': 'The Godfather', 'description': 'The aging patriarch of an organized crime dynasty in postwar New York City transfers control of his clandestine empire to his reluctant youngest son.', 'genre': 'Crime', 'image_url': '...', 'link': 'https://imdb.com/title/tt0068646/?pf_rd_m=...'},\n",
        "    {'title': 'The Dark Knight', 'description': 'When the menace known as the Joker wreaks havoc and chaos on the people of Gotham, Batman must accept one of the greatest psychological and physical tests of his ability to fight injustice.', 'genre': 'Action', 'image_url': '...', 'link': 'https://imdb.com/title/tt0468569/?pf_rd_m=...'},\n",
        "    {'title': 'The Godfather: Part II', 'description': 'The early life and career of Vito Corleone in 1920s New York City is portrayed, while his son, Michael, expands and tightens his grip on the family crime syndicate.', 'genre': 'Crime', 'image_url': '...'}\n",
        "]\n",
        "\n",
        "# Calculate the average description length for the provided list of movies\n",
        "average_length = get_avg_movie_description_length(movies)\n",
        "print(f\"The average description length across all movies is {average_length} characters.\")\n"
      ]
    },
    {
      "cell_type": "code",
      "execution_count": 7,
      "metadata": {
        "id": "-9uGaQiSKuCM",
        "outputId": "cf0971e6-407f-4f5d-ed9e-3e7ba8072a4d",
        "colab": {
          "base_uri": "https://localhost:8080/"
        }
      },
      "outputs": [
        {
          "output_type": "stream",
          "name": "stdout",
          "text": [
            "Great! The \"get_avg_movie_description_length\" function returns the correct average length of the description\n",
            "You can continue to the next task\n"
          ]
        }
      ],
      "source": [
        "#@title Run this cell to check your solution { display-mode: \"form\", run: \"auto\" }\n",
        "assert 'get_avg_movie_description_length' in globals(), \"Please define the function get_avg_movie_description_length\"\n",
        "task_3 = test_milestone_2.check_get_avg_movie_description_length(get_avg_movie_description_length, task_2)"
      ]
    },
    {
      "cell_type": "markdown",
      "metadata": {
        "id": "ceOHOCy3KuCN"
      },
      "source": [
        "# Task 4\n",
        "\n",
        "### What is the maximum length of any movie name?\n",
        "\n",
        "Define a function called `get_max_movie_name_length`.\n",
        "\n",
        "It should return two things, in this order:\n",
        "\n",
        "1. The integer number of the length of the longest movie name\n",
        "2. The name of the movie"
      ]
    },
    {
      "cell_type": "code",
      "execution_count": 8,
      "metadata": {
        "id": "U-HQ3nWgKuCN",
        "outputId": "f42d64f2-fd59-4164-e20b-2f4f230294a8",
        "colab": {
          "base_uri": "https://localhost:8080/"
        }
      },
      "outputs": [
        {
          "output_type": "stream",
          "name": "stdout",
          "text": [
            "The maximum movie name length is 46 characters, and the movie name is 'A Very Long Movie Title That Will Set a Record'.\n"
          ]
        }
      ],
      "source": [
        "## Write your code here\n",
        "def get_max_movie_name_length(movies):\n",
        "    max_length = 0\n",
        "    movie_with_max_length = ''\n",
        "\n",
        "    for movie in movies:\n",
        "        title = movie.get('title', '')\n",
        "        title_length = len(title)\n",
        "\n",
        "        if title_length > max_length:\n",
        "            max_length = title_length\n",
        "            movie_with_max_length = title\n",
        "\n",
        "    return max_length, movie_with_max_length\n",
        "\n",
        "# Your list of movies\n",
        "movies = [\n",
        "    {'title': 'The Shawshank Redemption', 'description': '...', 'genre': 'Drama', 'image_url': '...', 'link': '...'},\n",
        "    {'title': 'The Godfather', 'description': '...', 'genre': 'Crime', 'image_url': '...', 'link': '...'},\n",
        "    {'title': 'The Dark Knight', 'description': '...', 'genre': 'Action', 'image_url': '...', 'link': '...'},\n",
        "    {'title': 'The Godfather: Part II', 'description': '...', 'genre': 'Crime', 'image_url': '...'},\n",
        "    {'title': 'A Very Long Movie Title That Will Set a Record', 'description': '...', 'genre': 'Drama', 'image_url': '...'}\n",
        "]\n",
        "\n",
        "# Get the maximum movie name length and the movie name\n",
        "max_length, movie_name = get_max_movie_name_length(movies)\n",
        "print(f\"The maximum movie name length is {max_length} characters, and the movie name is '{movie_name}'.\")\n"
      ]
    },
    {
      "cell_type": "code",
      "execution_count": 9,
      "metadata": {
        "id": "pqSgjSpRKuCO",
        "outputId": "9c1821a2-4537-4ceb-c707-1d46852a330d",
        "colab": {
          "base_uri": "https://localhost:8080/"
        }
      },
      "outputs": [
        {
          "output_type": "stream",
          "name": "stdout",
          "text": [
            "Great! The \"get_max_movie_name_length\" function returns the correct maximum length of the movie name:  (24, 'The Shawshank Redemption')\n",
            "Nice job! You have complete the second milestone of the project!\n"
          ]
        }
      ],
      "source": [
        "#@title Run this cell to check your solution { display-mode: \"form\", run: \"auto\" }\n",
        "assert 'get_max_movie_name_length' in globals(), \"Please define the function get_max_movie_name_length\"\n",
        "task_4 = test_milestone_2.check_get_max_movie_name_length(get_max_movie_name_length, task_3)"
      ]
    }
  ],
  "metadata": {
    "colab": {
      "provenance": [],
      "include_colab_link": true
    },
    "kernelspec": {
      "display_name": "base",
      "language": "python",
      "name": "python3"
    },
    "language_info": {
      "codemirror_mode": {
        "name": "ipython",
        "version": 3
      },
      "file_extension": ".py",
      "mimetype": "text/x-python",
      "name": "python",
      "nbconvert_exporter": "python",
      "pygments_lexer": "ipython3",
      "version": "3.9.12 (main, Apr  5 2022, 06:56:58) \n[GCC 7.5.0]"
    },
    "orig_nbformat": 4,
    "vscode": {
      "interpreter": {
        "hash": "a2592652612463181e69ac003232387e3e9a99279aa6b168e76f5df16d5110f4"
      }
    }
  },
  "nbformat": 4,
  "nbformat_minor": 0
}